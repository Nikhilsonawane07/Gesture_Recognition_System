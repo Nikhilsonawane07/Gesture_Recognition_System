{
 "cells": [
  {
   "cell_type": "markdown",
   "metadata": {},
   "source": [
    "# Gesture Recognition\n",
    "In this group project, you are going to build a 3D Conv model that will be able to predict the 5 gestures correctly. Please import the following libraries to get started. Once you have completed the code you can download the notebook for making a submission."
   ]
  },
  {
   "cell_type": "code",
   "execution_count": 1,
   "metadata": {},
   "outputs": [],
   "source": [
    "import numpy as np\n",
    "import os\n",
    "from imageio import imread\n",
    "from skimage.transform import resize\n",
    "import datetime\n",
    "import os"
   ]
  },
  {
   "cell_type": "markdown",
   "metadata": {},
   "source": [
    "We set the random seed so that the results don't vary drastically."
   ]
  },
  {
   "cell_type": "code",
   "execution_count": 2,
   "metadata": {},
   "outputs": [],
   "source": [
    "np.random.seed(30)\n",
    "import random as rn\n",
    "rn.seed(30)\n",
    "from tensorflow import keras\n",
    "import tensorflow as tf\n",
    "tf.random.set_seed(30)"
   ]
  },
  {
   "cell_type": "markdown",
   "metadata": {},
   "source": [
    "In this block, you read the folder names for training and validation. You also set the `batch_size` here. Note that you set the batch size in such a way that you are able to use the GPU in full capacity. You keep increasing the batch size until the machine throws an error."
   ]
  },
  {
   "cell_type": "markdown",
   "metadata": {},
   "source": [
    "**data path: /home/datasets/Project_data**"
   ]
  },
  {
   "cell_type": "code",
   "execution_count": 3,
   "metadata": {},
   "outputs": [],
   "source": [
    "train_doc = np.random.permutation(open('/home/datasets/Project_data/train.csv').readlines())\n",
    "val_doc = np.random.permutation(open('/home/datasets/Project_data/val.csv').readlines())\n",
    "batch_size = 32 #experiment with the batch size"
   ]
  },
  {
   "cell_type": "markdown",
   "metadata": {},
   "source": [
    "## Generator\n",
    "This is one of the most important part of the code. The overall structure of the generator has been given. In the generator, you are going to preprocess the images as you have images of 2 different dimensions as well as create a batch of video frames. You have to experiment with `img_idx`, `y`,`z` and normalization such that you get high accuracy."
   ]
  },
  {
   "cell_type": "code",
   "execution_count": 4,
   "metadata": {},
   "outputs": [],
   "source": [
    "x = 18 # Number of images per video\n",
    "y = 80 # Height of the image\n",
    "z = 80 # width of the image"
   ]
  },
  {
   "cell_type": "code",
   "execution_count": 5,
   "metadata": {},
   "outputs": [],
   "source": [
    "def generator(source_path, folder_list, batch_size):\n",
    "    print( 'Source path = ', source_path, '; batch size =', batch_size)\n",
    "    img_idx = list(range(6, 24)) #create a list of image numbers you want to use for a particular video\n",
    "    while True:\n",
    "        t = np.random.permutation(folder_list)\n",
    "        num_batches = int(len(t)/batch_size) # calculate the number of batches\n",
    "        for batch in range(num_batches): # we iterate over the number of batches\n",
    "            batch_data = np.zeros((batch_size, x, y, z ,3)) # x is the number of images you use for each video, (y,z) is the final size of the input images and 3 is the number of channels RGB\n",
    "            batch_labels = np.zeros((batch_size,5)) # batch_labels is the one hot representation of the output\n",
    "            for folder in range(batch_size): # iterate over the batch_size\n",
    "                imgs = os.listdir(source_path+'/'+ t[folder + (batch*batch_size)].split(';')[0]) # read all the images in the folder\n",
    "                for idx,item in enumerate(img_idx): #  Iterate iver the frames/images of a folder to read them in\n",
    "                    image = imread(source_path+'/'+ t[folder + (batch*batch_size)].strip().split(';')[0]+'/'+imgs[item]).astype(np.float32)\n",
    "                    if image.shape[0]>120:\n",
    "                        img_crop = image[75:-75, 50:-50, :] # Cropping for 360X360\n",
    "                    else:\n",
    "                        img_crop = image[25:-25, 30:-30, :] # Cropping for 120X160\n",
    "                    \n",
    "                    final_image = resize(img_crop, (y, z, 3))\n",
    "                    #crop the images and resize them. Note that the images are of 2 different shape \n",
    "                    #and the conv3D will throw error if the inputs in a batch have different shapes\n",
    "                    batch_data[folder, idx, :,:,:] = final_image\n",
    "                    batch_data[folder,idx,:,:,0] = batch_data[folder,idx,:,:,0]/255 #normalise and feed in the image\n",
    "                    batch_data[folder,idx,:,:,1] = batch_data[folder,idx,:,:,1]/255 #normalise and feed in the image\n",
    "                    batch_data[folder,idx,:,:,2] = batch_data[folder,idx,:,:,2]/255 #normalise and feed in the image\n",
    "                    \n",
    "                batch_labels[folder, int(t[folder + (batch*batch_size)].strip().split(';')[2])] = 1\n",
    "            yield batch_data, batch_labels #you yield the batch_data and the batch_labels, remember what does yield do\n",
    "\n",
    "        # write the code for the remaining data points which are left after full batches\n",
    "        if(len(t)%batch_size) != 0:\n",
    "            batch_data = np.zeros((len(t)%batch_size,x,y,z,3)) # x is the number of images you use for each video, (y,z) is the final size of the input images and 3 is the number of channels RGB x,y,z = 18,84,84\n",
    "            batch_labels = np.zeros((len(t)%batch_size,5)) # batch_labels is the one hot representation of the output\n",
    "            for folder in range(len(t)%batch_size): # iterate over the batch_size\n",
    "                imgs = os.listdir(source_path+'/'+ t[folder + (num_batches*batch_size)].split(';')[0]) # read all the images in the folder\n",
    "                for idx,item in enumerate(img_idx): #  Iterate iver the frames/images of a folder to read them in\n",
    "                    image = imread(source_path+'/'+ t[folder + (num_batches*batch_size)].strip().split(';')[0]+'/'+imgs[item]).astype(np.float32)\n",
    "                    \n",
    "                    if image.shape[0]>120:\n",
    "                        img_crop = image[75:-75, 50:-50, :]\n",
    "                    else:\n",
    "                        img_crop = image[25:-25, 30:-30, :]\n",
    "                    \n",
    "                    final_image = resize(img_crop, (y, z, 3))\n",
    "                    #crop the images and resize them. Note that the images are of 2 different shape \n",
    "                    #and the conv3D will throw error if the inputs in a batch have different shapes\n",
    "                    batch_data[folder, idx, :,:,:] = final_image\n",
    "                    \n",
    "                    batch_data[folder,idx,:,:,0] = batch_data[folder,idx,:,:,0]/255 #normalise and feed in the image\n",
    "                    batch_data[folder,idx,:,:,1] = batch_data[folder,idx,:,:,1]/255 #normalise and feed in the image\n",
    "                    batch_data[folder,idx,:,:,2] = batch_data[folder,idx,:,:,2]/255 #normalise and feed in the image\n",
    "                    \n",
    "                batch_labels[folder, int(t[folder + (num_batches*batch_size)].strip().split(';')[2])] = 1 # OHE\n",
    "            yield batch_data, batch_labels #you yield the batch_data and the batch_labels, remember what does yield do\n"
   ]
  },
  {
   "cell_type": "markdown",
   "metadata": {},
   "source": [
    "Note here that a video is represented above in the generator as (number of images, height, width, number of channels). Take this into consideration while creating the model architecture."
   ]
  },
  {
   "cell_type": "code",
   "execution_count": 6,
   "metadata": {},
   "outputs": [
    {
     "name": "stdout",
     "output_type": "stream",
     "text": [
      "# training sequences = 663\n",
      "# validation sequences = 100\n",
      "# epochs = 30\n"
     ]
    }
   ],
   "source": [
    "curr_dt_time = datetime.datetime.now()\n",
    "train_path = '/home/datasets/Project_data/train'\n",
    "val_path = '/home/datasets/Project_data/val'\n",
    "num_train_sequences = len(train_doc)\n",
    "print('# training sequences =', num_train_sequences)\n",
    "num_val_sequences = len(val_doc)\n",
    "print('# validation sequences =', num_val_sequences)\n",
    "num_epochs = 30 # choose the number of epochs\n",
    "print ('# epochs =', num_epochs)"
   ]
  },
  {
   "cell_type": "markdown",
   "metadata": {},
   "source": [
    "## Model\n",
    "Here you make the model using different functionalities that Keras provides. Remember to use `Conv3D` and `MaxPooling3D` and not `Conv2D` and `Maxpooling2D` for a 3D convolution model. You would want to use `TimeDistributed` while building a Conv2D + RNN model. Also remember that the last layer is the softmax. Design the network in such a way that the model is able to give good accuracy on the least number of parameters so that it can fit in the memory of the webcam."
   ]
  },
  {
   "cell_type": "markdown",
   "metadata": {},
   "source": [
    "## Conv3D Model"
   ]
  },
  {
   "cell_type": "code",
   "execution_count": 7,
   "metadata": {},
   "outputs": [
    {
     "name": "stderr",
     "output_type": "stream",
     "text": [
      "2023-01-11 16:51:10.532150: W tensorflow/core/common_runtime/gpu/gpu_bfc_allocator.cc:39] Overriding allow_growth setting because the TF_FORCE_GPU_ALLOW_GROWTH environment variable is set. Original config value was 0.\n",
      "2023-01-11 16:51:10.532226: I tensorflow/core/common_runtime/gpu/gpu_device.cc:1525] Created device /job:localhost/replica:0/task:0/device:GPU:0 with 14802 MB memory:  -> device: 0, name: Quadro RTX 5000, pci bus id: 0000:1e:00.0, compute capability: 7.5\n"
     ]
    }
   ],
   "source": [
    "from keras.models import Sequential, Model\n",
    "from keras.layers import Dense, GRU, Flatten, TimeDistributed, Flatten, BatchNormalization, Activation, Dropout\n",
    "from keras.layers.convolutional import Conv3D, MaxPooling3D\n",
    "from keras.callbacks import ModelCheckpoint, ReduceLROnPlateau\n",
    "from keras import optimizers\n",
    "from keras.regularizers import l2\n",
    "\n",
    "#write your model here\n",
    "model = Sequential()\n",
    "model.add(Conv3D(32, (3,3,3), padding=\"same\", input_shape=(x,y,z,3)))\n",
    "model.add(BatchNormalization())\n",
    "model.add(Activation(\"elu\"))\n",
    "model.add(MaxPooling3D(pool_size=(2,2,2)))\n",
    "\n",
    "model.add(Conv3D(64, (3,3,3), padding=\"same\"))\n",
    "model.add(BatchNormalization())\n",
    "model.add(Activation(\"elu\"))\n",
    "model.add(MaxPooling3D(pool_size=(3,4,4)))\n",
    "\n",
    "model.add(Flatten())\n",
    "model.add(Dense(192, activation=\"relu\"))\n",
    "model.add(Dropout(0.35))\n",
    "model.add(Dense(5, activation=\"softmax\"))"
   ]
  },
  {
   "cell_type": "markdown",
   "metadata": {},
   "source": [
    "Now that you have written the model, the next step is to `compile` the model. When you print the `summary` of the model, you'll see the total number of parameters you have to train."
   ]
  },
  {
   "cell_type": "code",
   "execution_count": 8,
   "metadata": {
    "scrolled": true
   },
   "outputs": [
    {
     "name": "stdout",
     "output_type": "stream",
     "text": [
      "Model: \"sequential\"\n",
      "_________________________________________________________________\n",
      " Layer (type)                Output Shape              Param #   \n",
      "=================================================================\n",
      " conv3d (Conv3D)             (None, 18, 80, 80, 32)    2624      \n",
      "                                                                 \n",
      " batch_normalization (BatchN  (None, 18, 80, 80, 32)   128       \n",
      " ormalization)                                                   \n",
      "                                                                 \n",
      " activation (Activation)     (None, 18, 80, 80, 32)    0         \n",
      "                                                                 \n",
      " max_pooling3d (MaxPooling3D  (None, 9, 40, 40, 32)    0         \n",
      " )                                                               \n",
      "                                                                 \n",
      " conv3d_1 (Conv3D)           (None, 9, 40, 40, 64)     55360     \n",
      "                                                                 \n",
      " batch_normalization_1 (Batc  (None, 9, 40, 40, 64)    256       \n",
      " hNormalization)                                                 \n",
      "                                                                 \n",
      " activation_1 (Activation)   (None, 9, 40, 40, 64)     0         \n",
      "                                                                 \n",
      " max_pooling3d_1 (MaxPooling  (None, 3, 10, 10, 64)    0         \n",
      " 3D)                                                             \n",
      "                                                                 \n",
      " flatten (Flatten)           (None, 19200)             0         \n",
      "                                                                 \n",
      " dense (Dense)               (None, 192)               3686592   \n",
      "                                                                 \n",
      " dropout (Dropout)           (None, 192)               0         \n",
      "                                                                 \n",
      " dense_1 (Dense)             (None, 5)                 965       \n",
      "                                                                 \n",
      "=================================================================\n",
      "Total params: 3,745,925\n",
      "Trainable params: 3,745,733\n",
      "Non-trainable params: 192\n",
      "_________________________________________________________________\n",
      "None\n"
     ]
    }
   ],
   "source": [
    "optimiser = 'adam' #write your optimizer\n",
    "model.compile(optimizer=optimiser, loss='categorical_crossentropy', metrics=['categorical_accuracy'])\n",
    "print (model.summary())"
   ]
  },
  {
   "cell_type": "markdown",
   "metadata": {},
   "source": [
    "Let us create the `train_generator` and the `val_generator` which will be used in `.fit_generator`."
   ]
  },
  {
   "cell_type": "code",
   "execution_count": 9,
   "metadata": {},
   "outputs": [],
   "source": [
    "train_generator = generator(train_path, train_doc, batch_size)\n",
    "val_generator = generator(val_path, val_doc, batch_size)"
   ]
  },
  {
   "cell_type": "code",
   "execution_count": 10,
   "metadata": {},
   "outputs": [],
   "source": [
    "# model_name = 'model_init' + '_' + str(curr_dt_time).replace(' ','').replace(':','_') + '/'\n",
    "    \n",
    "# if not os.path.exists(model_name):\n",
    "#     os.mkdir(model_name)\n",
    "        \n",
    "# filepath = model_name + 'model-{epoch:05d}-{loss:.5f}-{categorical_accuracy:.5f}'\n",
    "\n",
    "# checkpoint = ModelCheckpoint(filepath, monitor='val_loss', verbose=1, save_best_only=False, save_weights_only=False, mode='auto',save_freq = num_epochs)\n",
    "\n",
    "# LR = ReduceLROnPlateau(monitor='val_loss', factor=0.5, patience=2, verbose=1,\n",
    "#                       mode=\"min\", cooldown=0, min_lr=0.00001) # write the REducelronplateau code here\n",
    "# callbacks_list = [checkpoint, LR]"
   ]
  },
  {
   "cell_type": "code",
   "execution_count": 11,
   "metadata": {},
   "outputs": [
    {
     "name": "stdout",
     "output_type": "stream",
     "text": [
      "WARNING:tensorflow:`epsilon` argument is deprecated and will be removed, use `min_delta` instead.\n"
     ]
    }
   ],
   "source": [
    "model_name = 'model_init_conv3d' + '' + str(curr_dt_time).replace(' ','').replace(':','') + '/'\n",
    "    \n",
    "if not os.path.exists(model_name):\n",
    "    os.mkdir(model_name)\n",
    "        \n",
    "filepath = model_name + 'model-epoch_{epoch:05d}-loss_{loss:.2f}-categorical_accuracy_{categorical_accuracy:.2f}-val_loss_{val_loss:.2f}-val_categorical_accuracy_{val_categorical_accuracy:.2f}.h5'\n",
    "\n",
    "checkpoint = ModelCheckpoint(filepath, monitor='val_loss', verbose=1, save_best_only=False, save_weights_only=False, mode='auto',save_freq = 'epoch')\n",
    "\n",
    "LR = ReduceLROnPlateau(monitor='val_loss', factor=0.5, patience=2, verbose=1, mode='min', epsilon=0.0001, cooldown=0, min_lr=0.00001) # write the REducelronplateau code here\n",
    "callbacks_list = [checkpoint, LR]\n",
    "#callbacks_list = [logs]"
   ]
  },
  {
   "cell_type": "markdown",
   "metadata": {},
   "source": [
    "The `steps_per_epoch` and `validation_steps` are used by `fit` method to decide the number of next() calls it need to make."
   ]
  },
  {
   "cell_type": "code",
   "execution_count": 12,
   "metadata": {},
   "outputs": [],
   "source": [
    "if (num_train_sequences%batch_size) == 0:\n",
    "    steps_per_epoch = int(num_train_sequences/batch_size)\n",
    "else:\n",
    "    steps_per_epoch = (num_train_sequences//batch_size) + 1\n",
    "\n",
    "if (num_val_sequences%batch_size) == 0:\n",
    "    validation_steps = int(num_val_sequences/batch_size)\n",
    "else:\n",
    "    validation_steps = (num_val_sequences//batch_size) + 1"
   ]
  },
  {
   "cell_type": "markdown",
   "metadata": {},
   "source": [
    "Let us now fit the model. This will start training the model and with the help of the checkpoints, you'll be able to save the model at the end of each epoch."
   ]
  },
  {
   "cell_type": "code",
   "execution_count": 13,
   "metadata": {},
   "outputs": [
    {
     "name": "stdout",
     "output_type": "stream",
     "text": [
      "Source path =  /home/datasets/Project_data/train ; batch size = 32\n",
      "Epoch 1/30\n"
     ]
    },
    {
     "name": "stderr",
     "output_type": "stream",
     "text": [
      "2023-01-11 16:51:14.815828: I tensorflow/stream_executor/cuda/cuda_dnn.cc:377] Loaded cuDNN version 8302\n"
     ]
    },
    {
     "name": "stdout",
     "output_type": "stream",
     "text": [
      "21/21 [==============================] - ETA: 0s - loss: 16.1392 - categorical_accuracy: 0.2383Source path =  /home/datasets/Project_data/val ; batch size = 32\n",
      "\n",
      "Epoch 00001: saving model to model_init_conv3d2023-01-11165109.777620/model-epoch_00001-loss_16.14-categorical_accuracy_0.24-val_loss_9.95-val_categorical_accuracy_0.23.h5\n",
      "21/21 [==============================] - 71s 3s/step - loss: 16.1392 - categorical_accuracy: 0.2383 - val_loss: 9.9509 - val_categorical_accuracy: 0.2300 - lr: 0.0010\n",
      "Epoch 2/30\n",
      "21/21 [==============================] - ETA: 0s - loss: 2.0233 - categorical_accuracy: 0.3469\n",
      "Epoch 00002: saving model to model_init_conv3d2023-01-11165109.777620/model-epoch_00002-loss_2.02-categorical_accuracy_0.35-val_loss_3.99-val_categorical_accuracy_0.25.h5\n",
      "21/21 [==============================] - 71s 4s/step - loss: 2.0233 - categorical_accuracy: 0.3469 - val_loss: 3.9945 - val_categorical_accuracy: 0.2500 - lr: 0.0010\n",
      "Epoch 3/30\n",
      "21/21 [==============================] - ETA: 0s - loss: 1.4807 - categorical_accuracy: 0.2971\n",
      "Epoch 00003: saving model to model_init_conv3d2023-01-11165109.777620/model-epoch_00003-loss_1.48-categorical_accuracy_0.30-val_loss_3.69-val_categorical_accuracy_0.23.h5\n",
      "21/21 [==============================] - 69s 3s/step - loss: 1.4807 - categorical_accuracy: 0.2971 - val_loss: 3.6885 - val_categorical_accuracy: 0.2300 - lr: 0.0010\n",
      "Epoch 4/30\n",
      "21/21 [==============================] - ETA: 0s - loss: 1.3969 - categorical_accuracy: 0.3997\n",
      "Epoch 00004: saving model to model_init_conv3d2023-01-11165109.777620/model-epoch_00004-loss_1.40-categorical_accuracy_0.40-val_loss_2.47-val_categorical_accuracy_0.24.h5\n",
      "21/21 [==============================] - 67s 3s/step - loss: 1.3969 - categorical_accuracy: 0.3997 - val_loss: 2.4692 - val_categorical_accuracy: 0.2400 - lr: 0.0010\n",
      "Epoch 5/30\n",
      "21/21 [==============================] - ETA: 0s - loss: 1.3769 - categorical_accuracy: 0.3771\n",
      "Epoch 00005: saving model to model_init_conv3d2023-01-11165109.777620/model-epoch_00005-loss_1.38-categorical_accuracy_0.38-val_loss_1.85-val_categorical_accuracy_0.32.h5\n",
      "21/21 [==============================] - 71s 4s/step - loss: 1.3769 - categorical_accuracy: 0.3771 - val_loss: 1.8474 - val_categorical_accuracy: 0.3200 - lr: 0.0010\n",
      "Epoch 6/30\n",
      "21/21 [==============================] - ETA: 0s - loss: 1.3135 - categorical_accuracy: 0.4148\n",
      "Epoch 00006: saving model to model_init_conv3d2023-01-11165109.777620/model-epoch_00006-loss_1.31-categorical_accuracy_0.41-val_loss_1.64-val_categorical_accuracy_0.40.h5\n",
      "21/21 [==============================] - 71s 4s/step - loss: 1.3135 - categorical_accuracy: 0.4148 - val_loss: 1.6361 - val_categorical_accuracy: 0.4000 - lr: 0.0010\n",
      "Epoch 7/30\n",
      "21/21 [==============================] - ETA: 0s - loss: 1.2700 - categorical_accuracy: 0.4419\n",
      "Epoch 00007: saving model to model_init_conv3d2023-01-11165109.777620/model-epoch_00007-loss_1.27-categorical_accuracy_0.44-val_loss_1.52-val_categorical_accuracy_0.33.h5\n",
      "21/21 [==============================] - 71s 4s/step - loss: 1.2700 - categorical_accuracy: 0.4419 - val_loss: 1.5233 - val_categorical_accuracy: 0.3300 - lr: 0.0010\n",
      "Epoch 8/30\n",
      "21/21 [==============================] - ETA: 0s - loss: 1.2683 - categorical_accuracy: 0.4268\n",
      "Epoch 00008: saving model to model_init_conv3d2023-01-11165109.777620/model-epoch_00008-loss_1.27-categorical_accuracy_0.43-val_loss_1.51-val_categorical_accuracy_0.33.h5\n",
      "21/21 [==============================] - 69s 3s/step - loss: 1.2683 - categorical_accuracy: 0.4268 - val_loss: 1.5089 - val_categorical_accuracy: 0.3300 - lr: 0.0010\n",
      "Epoch 9/30\n",
      "21/21 [==============================] - ETA: 0s - loss: 1.2213 - categorical_accuracy: 0.4359\n",
      "Epoch 00009: saving model to model_init_conv3d2023-01-11165109.777620/model-epoch_00009-loss_1.22-categorical_accuracy_0.44-val_loss_1.50-val_categorical_accuracy_0.33.h5\n",
      "21/21 [==============================] - 70s 3s/step - loss: 1.2213 - categorical_accuracy: 0.4359 - val_loss: 1.5024 - val_categorical_accuracy: 0.3300 - lr: 0.0010\n",
      "Epoch 10/30\n",
      "21/21 [==============================] - ETA: 0s - loss: 1.2408 - categorical_accuracy: 0.4434\n",
      "Epoch 00010: saving model to model_init_conv3d2023-01-11165109.777620/model-epoch_00010-loss_1.24-categorical_accuracy_0.44-val_loss_1.47-val_categorical_accuracy_0.37.h5\n",
      "21/21 [==============================] - 70s 4s/step - loss: 1.2408 - categorical_accuracy: 0.4434 - val_loss: 1.4671 - val_categorical_accuracy: 0.3700 - lr: 0.0010\n",
      "Epoch 11/30\n",
      "21/21 [==============================] - ETA: 0s - loss: 1.1854 - categorical_accuracy: 0.4646\n",
      "Epoch 00011: saving model to model_init_conv3d2023-01-11165109.777620/model-epoch_00011-loss_1.19-categorical_accuracy_0.46-val_loss_1.39-val_categorical_accuracy_0.31.h5\n",
      "21/21 [==============================] - 70s 3s/step - loss: 1.1854 - categorical_accuracy: 0.4646 - val_loss: 1.3936 - val_categorical_accuracy: 0.3100 - lr: 0.0010\n",
      "Epoch 12/30\n",
      "21/21 [==============================] - ETA: 0s - loss: 1.1476 - categorical_accuracy: 0.4947\n",
      "Epoch 00012: saving model to model_init_conv3d2023-01-11165109.777620/model-epoch_00012-loss_1.15-categorical_accuracy_0.49-val_loss_1.48-val_categorical_accuracy_0.40.h5\n",
      "21/21 [==============================] - 66s 3s/step - loss: 1.1476 - categorical_accuracy: 0.4947 - val_loss: 1.4849 - val_categorical_accuracy: 0.4000 - lr: 0.0010\n",
      "Epoch 13/30\n",
      "21/21 [==============================] - ETA: 0s - loss: 1.1036 - categorical_accuracy: 0.5083\n",
      "Epoch 00013: saving model to model_init_conv3d2023-01-11165109.777620/model-epoch_00013-loss_1.10-categorical_accuracy_0.51-val_loss_1.43-val_categorical_accuracy_0.42.h5\n",
      "\n",
      "Epoch 00013: ReduceLROnPlateau reducing learning rate to 0.0005000000237487257.\n",
      "21/21 [==============================] - 69s 3s/step - loss: 1.1036 - categorical_accuracy: 0.5083 - val_loss: 1.4306 - val_categorical_accuracy: 0.4200 - lr: 0.0010\n",
      "Epoch 14/30\n",
      "21/21 [==============================] - ETA: 0s - loss: 1.0447 - categorical_accuracy: 0.5339\n",
      "Epoch 00014: saving model to model_init_conv3d2023-01-11165109.777620/model-epoch_00014-loss_1.04-categorical_accuracy_0.53-val_loss_1.47-val_categorical_accuracy_0.37.h5\n",
      "21/21 [==============================] - 70s 3s/step - loss: 1.0447 - categorical_accuracy: 0.5339 - val_loss: 1.4721 - val_categorical_accuracy: 0.3700 - lr: 5.0000e-04\n",
      "Epoch 15/30\n",
      "21/21 [==============================] - ETA: 0s - loss: 1.0023 - categorical_accuracy: 0.5762\n",
      "Epoch 00015: saving model to model_init_conv3d2023-01-11165109.777620/model-epoch_00015-loss_1.00-categorical_accuracy_0.58-val_loss_1.38-val_categorical_accuracy_0.41.h5\n",
      "21/21 [==============================] - 71s 4s/step - loss: 1.0023 - categorical_accuracy: 0.5762 - val_loss: 1.3787 - val_categorical_accuracy: 0.4100 - lr: 5.0000e-04\n",
      "Epoch 16/30\n",
      "21/21 [==============================] - ETA: 0s - loss: 1.0099 - categorical_accuracy: 0.5445\n",
      "Epoch 00016: saving model to model_init_conv3d2023-01-11165109.777620/model-epoch_00016-loss_1.01-categorical_accuracy_0.54-val_loss_1.39-val_categorical_accuracy_0.42.h5\n",
      "21/21 [==============================] - 67s 3s/step - loss: 1.0099 - categorical_accuracy: 0.5445 - val_loss: 1.3921 - val_categorical_accuracy: 0.4200 - lr: 5.0000e-04\n",
      "Epoch 17/30\n",
      "21/21 [==============================] - ETA: 0s - loss: 0.9759 - categorical_accuracy: 0.5867\n",
      "Epoch 00017: saving model to model_init_conv3d2023-01-11165109.777620/model-epoch_00017-loss_0.98-categorical_accuracy_0.59-val_loss_1.54-val_categorical_accuracy_0.38.h5\n",
      "\n",
      "Epoch 00017: ReduceLROnPlateau reducing learning rate to 0.0002500000118743628.\n",
      "21/21 [==============================] - 70s 4s/step - loss: 0.9759 - categorical_accuracy: 0.5867 - val_loss: 1.5393 - val_categorical_accuracy: 0.3800 - lr: 5.0000e-04\n",
      "Epoch 18/30\n",
      "21/21 [==============================] - ETA: 0s - loss: 0.9331 - categorical_accuracy: 0.5973\n",
      "Epoch 00018: saving model to model_init_conv3d2023-01-11165109.777620/model-epoch_00018-loss_0.93-categorical_accuracy_0.60-val_loss_1.42-val_categorical_accuracy_0.37.h5\n",
      "21/21 [==============================] - 71s 4s/step - loss: 0.9331 - categorical_accuracy: 0.5973 - val_loss: 1.4216 - val_categorical_accuracy: 0.3700 - lr: 2.5000e-04\n",
      "Epoch 19/30\n",
      "21/21 [==============================] - ETA: 0s - loss: 0.8477 - categorical_accuracy: 0.6109\n",
      "Epoch 00019: saving model to model_init_conv3d2023-01-11165109.777620/model-epoch_00019-loss_0.85-categorical_accuracy_0.61-val_loss_1.48-val_categorical_accuracy_0.43.h5\n",
      "\n",
      "Epoch 00019: ReduceLROnPlateau reducing learning rate to 0.0001250000059371814.\n",
      "21/21 [==============================] - 71s 4s/step - loss: 0.8477 - categorical_accuracy: 0.6109 - val_loss: 1.4777 - val_categorical_accuracy: 0.4300 - lr: 2.5000e-04\n",
      "Epoch 20/30\n",
      "21/21 [==============================] - ETA: 0s - loss: 0.8629 - categorical_accuracy: 0.6486\n",
      "Epoch 00020: saving model to model_init_conv3d2023-01-11165109.777620/model-epoch_00020-loss_0.86-categorical_accuracy_0.65-val_loss_1.44-val_categorical_accuracy_0.41.h5\n",
      "21/21 [==============================] - 68s 3s/step - loss: 0.8629 - categorical_accuracy: 0.6486 - val_loss: 1.4392 - val_categorical_accuracy: 0.4100 - lr: 1.2500e-04\n",
      "Epoch 21/30\n",
      "21/21 [==============================] - ETA: 0s - loss: 0.8108 - categorical_accuracy: 0.6244\n",
      "Epoch 00021: saving model to model_init_conv3d2023-01-11165109.777620/model-epoch_00021-loss_0.81-categorical_accuracy_0.62-val_loss_1.42-val_categorical_accuracy_0.42.h5\n",
      "\n",
      "Epoch 00021: ReduceLROnPlateau reducing learning rate to 6.25000029685907e-05.\n",
      "21/21 [==============================] - 70s 4s/step - loss: 0.8108 - categorical_accuracy: 0.6244 - val_loss: 1.4174 - val_categorical_accuracy: 0.4200 - lr: 1.2500e-04\n",
      "Epoch 22/30\n",
      "21/21 [==============================] - ETA: 0s - loss: 0.7893 - categorical_accuracy: 0.6546\n",
      "Epoch 00022: saving model to model_init_conv3d2023-01-11165109.777620/model-epoch_00022-loss_0.79-categorical_accuracy_0.65-val_loss_1.27-val_categorical_accuracy_0.39.h5\n",
      "21/21 [==============================] - 70s 4s/step - loss: 0.7893 - categorical_accuracy: 0.6546 - val_loss: 1.2683 - val_categorical_accuracy: 0.3900 - lr: 6.2500e-05\n",
      "Epoch 23/30\n",
      "21/21 [==============================] - ETA: 0s - loss: 0.7976 - categorical_accuracy: 0.6546\n",
      "Epoch 00023: saving model to model_init_conv3d2023-01-11165109.777620/model-epoch_00023-loss_0.80-categorical_accuracy_0.65-val_loss_1.38-val_categorical_accuracy_0.46.h5\n",
      "21/21 [==============================] - 72s 4s/step - loss: 0.7976 - categorical_accuracy: 0.6546 - val_loss: 1.3774 - val_categorical_accuracy: 0.4600 - lr: 6.2500e-05\n",
      "Epoch 24/30\n",
      "21/21 [==============================] - ETA: 0s - loss: 0.8087 - categorical_accuracy: 0.6365\n",
      "Epoch 00024: saving model to model_init_conv3d2023-01-11165109.777620/model-epoch_00024-loss_0.81-categorical_accuracy_0.64-val_loss_1.38-val_categorical_accuracy_0.44.h5\n",
      "\n",
      "Epoch 00024: ReduceLROnPlateau reducing learning rate to 3.125000148429535e-05.\n",
      "21/21 [==============================] - 67s 3s/step - loss: 0.8087 - categorical_accuracy: 0.6365 - val_loss: 1.3842 - val_categorical_accuracy: 0.4400 - lr: 6.2500e-05\n",
      "Epoch 25/30\n",
      "21/21 [==============================] - ETA: 0s - loss: 0.7758 - categorical_accuracy: 0.6833\n",
      "Epoch 00025: saving model to model_init_conv3d2023-01-11165109.777620/model-epoch_00025-loss_0.78-categorical_accuracy_0.68-val_loss_1.32-val_categorical_accuracy_0.48.h5\n",
      "21/21 [==============================] - 70s 3s/step - loss: 0.7758 - categorical_accuracy: 0.6833 - val_loss: 1.3250 - val_categorical_accuracy: 0.4800 - lr: 3.1250e-05\n",
      "Epoch 26/30\n",
      "21/21 [==============================] - ETA: 0s - loss: 0.8024 - categorical_accuracy: 0.6395\n",
      "Epoch 00026: saving model to model_init_conv3d2023-01-11165109.777620/model-epoch_00026-loss_0.80-categorical_accuracy_0.64-val_loss_1.42-val_categorical_accuracy_0.46.h5\n",
      "\n",
      "Epoch 00026: ReduceLROnPlateau reducing learning rate to 1.5625000742147677e-05.\n",
      "21/21 [==============================] - 70s 3s/step - loss: 0.8024 - categorical_accuracy: 0.6395 - val_loss: 1.4238 - val_categorical_accuracy: 0.4600 - lr: 3.1250e-05\n",
      "Epoch 27/30\n",
      "21/21 [==============================] - ETA: 0s - loss: 0.7697 - categorical_accuracy: 0.6561\n",
      "Epoch 00027: saving model to model_init_conv3d2023-01-11165109.777620/model-epoch_00027-loss_0.77-categorical_accuracy_0.66-val_loss_1.25-val_categorical_accuracy_0.50.h5\n",
      "21/21 [==============================] - 70s 4s/step - loss: 0.7697 - categorical_accuracy: 0.6561 - val_loss: 1.2478 - val_categorical_accuracy: 0.5000 - lr: 1.5625e-05\n",
      "Epoch 28/30\n",
      "21/21 [==============================] - ETA: 0s - loss: 0.7659 - categorical_accuracy: 0.6637\n",
      "Epoch 00028: saving model to model_init_conv3d2023-01-11165109.777620/model-epoch_00028-loss_0.77-categorical_accuracy_0.66-val_loss_1.28-val_categorical_accuracy_0.50.h5\n",
      "21/21 [==============================] - 67s 3s/step - loss: 0.7659 - categorical_accuracy: 0.6637 - val_loss: 1.2784 - val_categorical_accuracy: 0.5000 - lr: 1.5625e-05\n",
      "Epoch 29/30\n",
      "21/21 [==============================] - ETA: 0s - loss: 0.7283 - categorical_accuracy: 0.6938\n",
      "Epoch 00029: saving model to model_init_conv3d2023-01-11165109.777620/model-epoch_00029-loss_0.73-categorical_accuracy_0.69-val_loss_1.28-val_categorical_accuracy_0.52.h5\n",
      "\n",
      "Epoch 00029: ReduceLROnPlateau reducing learning rate to 1e-05.\n",
      "21/21 [==============================] - 70s 4s/step - loss: 0.7283 - categorical_accuracy: 0.6938 - val_loss: 1.2773 - val_categorical_accuracy: 0.5200 - lr: 1.5625e-05\n",
      "Epoch 30/30\n",
      "21/21 [==============================] - ETA: 0s - loss: 0.7584 - categorical_accuracy: 0.6621\n",
      "Epoch 00030: saving model to model_init_conv3d2023-01-11165109.777620/model-epoch_00030-loss_0.76-categorical_accuracy_0.66-val_loss_1.02-val_categorical_accuracy_0.65.h5\n",
      "21/21 [==============================] - 70s 3s/step - loss: 0.7584 - categorical_accuracy: 0.6621 - val_loss: 1.0225 - val_categorical_accuracy: 0.6500 - lr: 1.0000e-05\n"
     ]
    },
    {
     "data": {
      "text/plain": [
       "<keras.callbacks.History at 0x7f9efcf65910>"
      ]
     },
     "execution_count": 13,
     "metadata": {},
     "output_type": "execute_result"
    }
   ],
   "source": [
    "model.fit(train_generator, steps_per_epoch=steps_per_epoch, epochs=num_epochs, verbose=1, \n",
    "                    callbacks=callbacks_list, validation_data=val_generator, \n",
    "                    validation_steps=validation_steps, class_weight=None, workers=1, initial_epoch=0)"
   ]
  },
  {
   "cell_type": "markdown",
   "metadata": {},
   "source": [
    "### Above Model has Accuracy of 67% and Validation accuracy of 65%"
   ]
  },
  {
   "cell_type": "markdown",
   "metadata": {},
   "source": [
    "## CNN + RNN (GRU) Model"
   ]
  },
  {
   "cell_type": "code",
   "execution_count": 14,
   "metadata": {},
   "outputs": [],
   "source": [
    "from keras.models import Sequential, Model\n",
    "from keras.layers import Dense, GRU, Flatten, TimeDistributed, Flatten, BatchNormalization, Activation, Dropout, Input, LSTM\n",
    "from keras.layers.convolutional import Conv3D, MaxPooling3D, Conv2D, MaxPooling2D\n",
    "from keras.callbacks import ModelCheckpoint, ReduceLROnPlateau\n",
    "from keras import optimizers\n",
    "from keras.regularizers import l2\n",
    "\n",
    "#write your model here\n",
    "video = Input(shape=(18,80,80,3))\n",
    "cnn_base = Sequential()\n",
    "\n",
    "cnn_base.add(Conv2D(32, (3,3), activation='elu', padding='same'))\n",
    "cnn_base.add(BatchNormalization())\n",
    "cnn_base.add(MaxPooling2D((2,2)))\n",
    "\n",
    "cnn_base.add(Conv2D(64, (3,3), activation='elu', padding='same'))\n",
    "cnn_base.add(BatchNormalization())\n",
    "cnn_base.add(MaxPooling2D((4,4)))\n",
    "\n",
    "cnn_base.add(Flatten())\n",
    "cnn_base.add(Dense(128, activation='relu'))\n",
    "cnn_base.add(Dropout(0.5))\n",
    "\n",
    "encoded_frames = TimeDistributed(cnn_base)(video)\n",
    "gru1 = LSTM(256)(encoded_frames)\n",
    "dropout1 = Dropout(0.5)(gru1)\n",
    "hidden_layer = Dense(256, activation=\"relu\")(dropout1)\n",
    "dropout2 = Dropout(0.5)(hidden_layer)\n",
    "outputs = Dense(5, activation=\"softmax\")(dropout2)\n",
    "model = Model([video], outputs)"
   ]
  },
  {
   "cell_type": "code",
   "execution_count": 15,
   "metadata": {},
   "outputs": [
    {
     "name": "stdout",
     "output_type": "stream",
     "text": [
      "Model: \"model\"\n",
      "_________________________________________________________________\n",
      " Layer (type)                Output Shape              Param #   \n",
      "=================================================================\n",
      " input_1 (InputLayer)        [(None, 18, 80, 80, 3)]   0         \n",
      "                                                                 \n",
      " time_distributed (TimeDistr  (None, 18, 128)          839104    \n",
      " ibuted)                                                         \n",
      "                                                                 \n",
      " lstm (LSTM)                 (None, 256)               394240    \n",
      "                                                                 \n",
      " dropout_2 (Dropout)         (None, 256)               0         \n",
      "                                                                 \n",
      " dense_3 (Dense)             (None, 256)               65792     \n",
      "                                                                 \n",
      " dropout_3 (Dropout)         (None, 256)               0         \n",
      "                                                                 \n",
      " dense_4 (Dense)             (None, 5)                 1285      \n",
      "                                                                 \n",
      "=================================================================\n",
      "Total params: 1,300,421\n",
      "Trainable params: 1,300,229\n",
      "Non-trainable params: 192\n",
      "_________________________________________________________________\n",
      "None\n"
     ]
    }
   ],
   "source": [
    "optimiser = 'adam' #write your optimizer\n",
    "model.compile(optimizer=optimiser, loss='categorical_crossentropy', metrics=['categorical_accuracy'])\n",
    "print (model.summary())"
   ]
  },
  {
   "cell_type": "code",
   "execution_count": 16,
   "metadata": {},
   "outputs": [],
   "source": [
    "train_generator = generator(train_path, train_doc, batch_size)\n",
    "val_generator = generator(val_path, val_doc, batch_size)"
   ]
  },
  {
   "cell_type": "code",
   "execution_count": 17,
   "metadata": {},
   "outputs": [
    {
     "name": "stdout",
     "output_type": "stream",
     "text": [
      "WARNING:tensorflow:`period` argument is deprecated. Please use `save_freq` to specify the frequency in number of batches seen.\n"
     ]
    }
   ],
   "source": [
    "curr_dt_time = datetime.datetime.now()\n",
    "\n",
    "model_name = 'model_init' + '_' + str(curr_dt_time).replace(' ','').replace(':','_') + '/'\n",
    "    \n",
    "if not os.path.exists(model_name):\n",
    "    os.mkdir(model_name)\n",
    "        \n",
    "filepath = model_name + 'model-{epoch:05d}-{loss:.5f}-{categorical_accuracy:.5f}-{val_loss:.5f}-{val_categorical_accuracy:.5f}.h5'\n",
    "\n",
    "checkpoint = ModelCheckpoint(filepath, monitor='val_loss', verbose=1, save_best_only=False, save_weights_only=False, mode='auto', period=1)\n",
    "\n",
    "LR = ReduceLROnPlateau(monitor='val_loss', factor=0.5, patience=2, verbose=1,\n",
    "                      mode=\"min\", cooldown=0, min_lr=0.00001) # write the REducelronplateau code here\n",
    "callbacks_list = [checkpoint, LR]"
   ]
  },
  {
   "cell_type": "code",
   "execution_count": 18,
   "metadata": {},
   "outputs": [],
   "source": [
    "if (num_train_sequences%batch_size) == 0:\n",
    "    steps_per_epoch = int(num_train_sequences/batch_size)\n",
    "else:\n",
    "    steps_per_epoch = (num_train_sequences//batch_size) + 1\n",
    "\n",
    "if (num_val_sequences%batch_size) == 0:\n",
    "    validation_steps = int(num_val_sequences/batch_size)\n",
    "else:\n",
    "    validation_steps = (num_val_sequences//batch_size) + 1"
   ]
  },
  {
   "cell_type": "code",
   "execution_count": null,
   "metadata": {},
   "outputs": [
    {
     "name": "stdout",
     "output_type": "stream",
     "text": [
      "Source path =  /home/datasets/Project_data/train ; batch size = 32\n"
     ]
    },
    {
     "name": "stderr",
     "output_type": "stream",
     "text": [
      "/tmp/ipykernel_490/385748685.py:1: UserWarning: `Model.fit_generator` is deprecated and will be removed in a future version. Please use `Model.fit`, which supports generators.\n",
      "  model.fit_generator(train_generator, steps_per_epoch=steps_per_epoch, epochs=num_epochs, verbose=1,\n"
     ]
    },
    {
     "name": "stdout",
     "output_type": "stream",
     "text": [
      "Epoch 1/30\n",
      "21/21 [==============================] - ETA: 0s - loss: 1.7698 - categorical_accuracy: 0.1931Source path =  /home/datasets/Project_data/val ; batch size = 32\n",
      "\n",
      "Epoch 00001: saving model to model_init_2023-01-1117_26_06.610727/model-00001-1.76978-0.19306-1.62400-0.18000.h5\n",
      "21/21 [==============================] - 72s 3s/step - loss: 1.7698 - categorical_accuracy: 0.1931 - val_loss: 1.6240 - val_categorical_accuracy: 0.1800 - lr: 0.0010\n",
      "Epoch 2/30\n",
      "21/21 [==============================] - ETA: 0s - loss: 1.7071 - categorical_accuracy: 0.2293\n",
      "Epoch 00002: saving model to model_init_2023-01-1117_26_06.610727/model-00002-1.70714-0.22926-1.57307-0.20000.h5\n",
      "21/21 [==============================] - 71s 4s/step - loss: 1.7071 - categorical_accuracy: 0.2293 - val_loss: 1.5731 - val_categorical_accuracy: 0.2000 - lr: 0.0010\n",
      "Epoch 3/30\n",
      "21/21 [==============================] - ETA: 0s - loss: 1.6080 - categorical_accuracy: 0.2805\n",
      "Epoch 00003: saving model to model_init_2023-01-1117_26_06.610727/model-00003-1.60803-0.28054-1.57722-0.22000.h5\n",
      "21/21 [==============================] - 72s 4s/step - loss: 1.6080 - categorical_accuracy: 0.2805 - val_loss: 1.5772 - val_categorical_accuracy: 0.2200 - lr: 0.0010\n",
      "Epoch 4/30\n",
      "21/21 [==============================] - ETA: 0s - loss: 1.5350 - categorical_accuracy: 0.2971\n",
      "Epoch 00004: saving model to model_init_2023-01-1117_26_06.610727/model-00004-1.53501-0.29713-1.54054-0.29000.h5\n",
      "21/21 [==============================] - 70s 3s/step - loss: 1.5350 - categorical_accuracy: 0.2971 - val_loss: 1.5405 - val_categorical_accuracy: 0.2900 - lr: 0.0010\n",
      "Epoch 5/30\n",
      "21/21 [==============================] - ETA: 0s - loss: 1.4839 - categorical_accuracy: 0.3273\n",
      "Epoch 00005: saving model to model_init_2023-01-1117_26_06.610727/model-00005-1.48393-0.32730-1.55518-0.31000.h5\n",
      "21/21 [==============================] - 72s 4s/step - loss: 1.4839 - categorical_accuracy: 0.3273 - val_loss: 1.5552 - val_categorical_accuracy: 0.3100 - lr: 0.0010\n",
      "Epoch 6/30\n",
      "21/21 [==============================] - ETA: 0s - loss: 1.4783 - categorical_accuracy: 0.3348\n",
      "Epoch 00006: saving model to model_init_2023-01-1117_26_06.610727/model-00006-1.47832-0.33484-1.98668-0.22000.h5\n",
      "\n",
      "Epoch 00006: ReduceLROnPlateau reducing learning rate to 0.0005000000237487257.\n",
      "21/21 [==============================] - 73s 4s/step - loss: 1.4783 - categorical_accuracy: 0.3348 - val_loss: 1.9867 - val_categorical_accuracy: 0.2200 - lr: 0.0010\n",
      "Epoch 7/30\n",
      "21/21 [==============================] - ETA: 0s - loss: 1.3869 - categorical_accuracy: 0.3891\n",
      "Epoch 00007: saving model to model_init_2023-01-1117_26_06.610727/model-00007-1.38687-0.38914-1.66704-0.37000.h5\n",
      "21/21 [==============================] - 71s 4s/step - loss: 1.3869 - categorical_accuracy: 0.3891 - val_loss: 1.6670 - val_categorical_accuracy: 0.3700 - lr: 5.0000e-04\n",
      "Epoch 8/30\n",
      "21/21 [==============================] - ETA: 0s - loss: 1.3594 - categorical_accuracy: 0.4027\n",
      "Epoch 00008: saving model to model_init_2023-01-1117_26_06.610727/model-00008-1.35942-0.40271-1.54404-0.35000.h5\n",
      "\n",
      "Epoch 00008: ReduceLROnPlateau reducing learning rate to 0.0002500000118743628.\n",
      "21/21 [==============================] - 70s 4s/step - loss: 1.3594 - categorical_accuracy: 0.4027 - val_loss: 1.5440 - val_categorical_accuracy: 0.3500 - lr: 5.0000e-04\n",
      "Epoch 9/30\n",
      "21/21 [==============================] - ETA: 0s - loss: 1.2826 - categorical_accuracy: 0.4344\n",
      "Epoch 00009: saving model to model_init_2023-01-1117_26_06.610727/model-00009-1.28260-0.43439-1.47976-0.40000.h5\n",
      "21/21 [==============================] - 70s 4s/step - loss: 1.2826 - categorical_accuracy: 0.4344 - val_loss: 1.4798 - val_categorical_accuracy: 0.4000 - lr: 2.5000e-04\n",
      "Epoch 10/30\n",
      "21/21 [==============================] - ETA: 0s - loss: 1.3235 - categorical_accuracy: 0.4193\n",
      "Epoch 00010: saving model to model_init_2023-01-1117_26_06.610727/model-00010-1.32354-0.41931-1.43119-0.42000.h5\n",
      "21/21 [==============================] - 71s 4s/step - loss: 1.3235 - categorical_accuracy: 0.4193 - val_loss: 1.4312 - val_categorical_accuracy: 0.4200 - lr: 2.5000e-04\n",
      "Epoch 11/30\n",
      "21/21 [==============================] - ETA: 0s - loss: 1.2378 - categorical_accuracy: 0.4827\n",
      "Epoch 00011: saving model to model_init_2023-01-1117_26_06.610727/model-00011-1.23784-0.48265-1.50287-0.41000.h5\n",
      "21/21 [==============================] - 71s 4s/step - loss: 1.2378 - categorical_accuracy: 0.4827 - val_loss: 1.5029 - val_categorical_accuracy: 0.4100 - lr: 2.5000e-04\n",
      "Epoch 12/30\n",
      "21/21 [==============================] - ETA: 0s - loss: 1.1886 - categorical_accuracy: 0.5023\n",
      "Epoch 00012: saving model to model_init_2023-01-1117_26_06.610727/model-00012-1.18860-0.50226-1.47082-0.42000.h5\n",
      "\n",
      "Epoch 00012: ReduceLROnPlateau reducing learning rate to 0.0001250000059371814.\n",
      "21/21 [==============================] - 67s 3s/step - loss: 1.1886 - categorical_accuracy: 0.5023 - val_loss: 1.4708 - val_categorical_accuracy: 0.4200 - lr: 2.5000e-04\n",
      "Epoch 13/30\n",
      "21/21 [==============================] - ETA: 0s - loss: 1.1971 - categorical_accuracy: 0.5008\n",
      "Epoch 00013: saving model to model_init_2023-01-1117_26_06.610727/model-00013-1.19714-0.50075-1.40261-0.40000.h5\n",
      "21/21 [==============================] - 71s 4s/step - loss: 1.1971 - categorical_accuracy: 0.5008 - val_loss: 1.4026 - val_categorical_accuracy: 0.4000 - lr: 1.2500e-04\n",
      "Epoch 14/30\n",
      "21/21 [==============================] - ETA: 0s - loss: 1.1737 - categorical_accuracy: 0.5204\n",
      "Epoch 00014: saving model to model_init_2023-01-1117_26_06.610727/model-00014-1.17371-0.52036-1.44326-0.45000.h5\n",
      "21/21 [==============================] - 71s 4s/step - loss: 1.1737 - categorical_accuracy: 0.5204 - val_loss: 1.4433 - val_categorical_accuracy: 0.4500 - lr: 1.2500e-04\n",
      "Epoch 15/30\n",
      "21/21 [==============================] - ETA: 0s - loss: 1.1289 - categorical_accuracy: 0.5566\n",
      "Epoch 00015: saving model to model_init_2023-01-1117_26_06.610727/model-00015-1.12890-0.55656-1.24704-0.47000.h5\n",
      "21/21 [==============================] - 71s 4s/step - loss: 1.1289 - categorical_accuracy: 0.5566 - val_loss: 1.2470 - val_categorical_accuracy: 0.4700 - lr: 1.2500e-04\n",
      "Epoch 16/30\n",
      "21/21 [==============================] - ETA: 0s - loss: 1.1116 - categorical_accuracy: 0.5128\n",
      "Epoch 00016: saving model to model_init_2023-01-1117_26_06.610727/model-00016-1.11158-0.51282-1.24231-0.49000.h5\n",
      "21/21 [==============================] - 69s 3s/step - loss: 1.1116 - categorical_accuracy: 0.5128 - val_loss: 1.2423 - val_categorical_accuracy: 0.4900 - lr: 1.2500e-04\n",
      "Epoch 17/30\n",
      "21/21 [==============================] - ETA: 0s - loss: 1.0665 - categorical_accuracy: 0.5475\n",
      "Epoch 00017: saving model to model_init_2023-01-1117_26_06.610727/model-00017-1.06649-0.54751-1.16323-0.55000.h5\n",
      "21/21 [==============================] - 71s 4s/step - loss: 1.0665 - categorical_accuracy: 0.5475 - val_loss: 1.1632 - val_categorical_accuracy: 0.5500 - lr: 1.2500e-04\n",
      "Epoch 18/30\n",
      "21/21 [==============================] - ETA: 0s - loss: 1.0366 - categorical_accuracy: 0.5611\n",
      "Epoch 00018: saving model to model_init_2023-01-1117_26_06.610727/model-00018-1.03662-0.56109-1.17139-0.55000.h5\n",
      "21/21 [==============================] - 71s 4s/step - loss: 1.0366 - categorical_accuracy: 0.5611 - val_loss: 1.1714 - val_categorical_accuracy: 0.5500 - lr: 1.2500e-04\n",
      "Epoch 19/30\n",
      "21/21 [==============================] - ETA: 0s - loss: 1.0347 - categorical_accuracy: 0.5852\n",
      "Epoch 00019: saving model to model_init_2023-01-1117_26_06.610727/model-00019-1.03469-0.58522-1.10725-0.51000.h5\n",
      "21/21 [==============================] - 73s 4s/step - loss: 1.0347 - categorical_accuracy: 0.5852 - val_loss: 1.1072 - val_categorical_accuracy: 0.5100 - lr: 1.2500e-04\n",
      "Epoch 20/30\n",
      "21/21 [==============================] - ETA: 0s - loss: 1.0115 - categorical_accuracy: 0.5777\n",
      "Epoch 00020: saving model to model_init_2023-01-1117_26_06.610727/model-00020-1.01152-0.57768-1.09973-0.55000.h5\n",
      "21/21 [==============================] - 70s 3s/step - loss: 1.0115 - categorical_accuracy: 0.5777 - val_loss: 1.0997 - val_categorical_accuracy: 0.5500 - lr: 1.2500e-04\n",
      "Epoch 21/30\n",
      "21/21 [==============================] - ETA: 0s - loss: 1.0137 - categorical_accuracy: 0.5913\n",
      "Epoch 00021: saving model to model_init_2023-01-1117_26_06.610727/model-00021-1.01371-0.59125-1.12130-0.57000.h5\n",
      "21/21 [==============================] - 72s 4s/step - loss: 1.0137 - categorical_accuracy: 0.5913 - val_loss: 1.1213 - val_categorical_accuracy: 0.5700 - lr: 1.2500e-04\n",
      "Epoch 22/30\n",
      "21/21 [==============================] - ETA: 0s - loss: 0.9366 - categorical_accuracy: 0.6275\n",
      "Epoch 00022: saving model to model_init_2023-01-1117_26_06.610727/model-00022-0.93657-0.62745-1.04614-0.60000.h5\n",
      "21/21 [==============================] - 70s 3s/step - loss: 0.9366 - categorical_accuracy: 0.6275 - val_loss: 1.0461 - val_categorical_accuracy: 0.6000 - lr: 1.2500e-04\n",
      "Epoch 23/30\n",
      "21/21 [==============================] - ETA: 0s - loss: 0.9657 - categorical_accuracy: 0.6048\n",
      "Epoch 00023: saving model to model_init_2023-01-1117_26_06.610727/model-00023-0.96569-0.60483-1.20329-0.52000.h5\n",
      "21/21 [==============================] - 71s 4s/step - loss: 0.9657 - categorical_accuracy: 0.6048 - val_loss: 1.2033 - val_categorical_accuracy: 0.5200 - lr: 1.2500e-04\n",
      "Epoch 24/30\n",
      "21/21 [==============================] - ETA: 0s - loss: 0.9476 - categorical_accuracy: 0.6094\n",
      "Epoch 00024: saving model to model_init_2023-01-1117_26_06.610727/model-00024-0.94757-0.60935-1.14229-0.56000.h5\n",
      "\n",
      "Epoch 00024: ReduceLROnPlateau reducing learning rate to 6.25000029685907e-05.\n",
      "21/21 [==============================] - 69s 3s/step - loss: 0.9476 - categorical_accuracy: 0.6094 - val_loss: 1.1423 - val_categorical_accuracy: 0.5600 - lr: 1.2500e-04\n",
      "Epoch 25/30\n",
      "21/21 [==============================] - ETA: 0s - loss: 0.8891 - categorical_accuracy: 0.6516\n",
      "Epoch 00025: saving model to model_init_2023-01-1117_26_06.610727/model-00025-0.88910-0.65158-1.12451-0.57000.h5\n",
      "21/21 [==============================] - 71s 4s/step - loss: 0.8891 - categorical_accuracy: 0.6516 - val_loss: 1.1245 - val_categorical_accuracy: 0.5700 - lr: 6.2500e-05\n",
      "Epoch 26/30\n",
      "21/21 [==============================] - ETA: 0s - loss: 0.8600 - categorical_accuracy: 0.6802\n",
      "Epoch 00026: saving model to model_init_2023-01-1117_26_06.610727/model-00026-0.85996-0.68024-1.14482-0.52000.h5\n",
      "\n",
      "Epoch 00026: ReduceLROnPlateau reducing learning rate to 3.125000148429535e-05.\n",
      "21/21 [==============================] - 71s 4s/step - loss: 0.8600 - categorical_accuracy: 0.6802 - val_loss: 1.1448 - val_categorical_accuracy: 0.5200 - lr: 6.2500e-05\n",
      "Epoch 27/30\n",
      "21/21 [==============================] - ETA: 0s - loss: 0.8079 - categorical_accuracy: 0.6998\n",
      "Epoch 00027: saving model to model_init_2023-01-1117_26_06.610727/model-00027-0.80786-0.69985-1.14723-0.58000.h5\n",
      "21/21 [==============================] - 71s 4s/step - loss: 0.8079 - categorical_accuracy: 0.6998 - val_loss: 1.1472 - val_categorical_accuracy: 0.5800 - lr: 3.1250e-05\n",
      "Epoch 28/30\n",
      "21/21 [==============================] - ETA: 0s - loss: 0.8193 - categorical_accuracy: 0.6621\n",
      "Epoch 00028: saving model to model_init_2023-01-1117_26_06.610727/model-00028-0.81935-0.66214-1.06388-0.59000.h5\n",
      "\n",
      "Epoch 00028: ReduceLROnPlateau reducing learning rate to 1.5625000742147677e-05.\n",
      "21/21 [==============================] - 70s 4s/step - loss: 0.8193 - categorical_accuracy: 0.6621 - val_loss: 1.0639 - val_categorical_accuracy: 0.5900 - lr: 3.1250e-05\n",
      "Epoch 29/30\n",
      "21/21 [==============================] - ETA: 0s - loss: 0.8514 - categorical_accuracy: 0.6591\n",
      "Epoch 00029: saving model to model_init_2023-01-1117_26_06.610727/model-00029-0.85145-0.65913-1.10426-0.58000.h5\n",
      "21/21 [==============================] - 72s 4s/step - loss: 0.8514 - categorical_accuracy: 0.6591 - val_loss: 1.1043 - val_categorical_accuracy: 0.5800 - lr: 1.5625e-05\n",
      "Epoch 30/30\n",
      "16/21 [=====================>........] - ETA: 14s - loss: 0.8170 - categorical_accuracy: 0.6895"
     ]
    }
   ],
   "source": [
    "model.fit_generator(train_generator, steps_per_epoch=steps_per_epoch, epochs=num_epochs, verbose=1, \n",
    "                    callbacks=callbacks_list, validation_data=val_generator, \n",
    "                    validation_steps=validation_steps, class_weight=None, workers=1, initial_epoch=0)"
   ]
  },
  {
   "cell_type": "markdown",
   "metadata": {},
   "source": [
    "#### This Model gives accuracy of 60% and validation accuracy of 49%"
   ]
  },
  {
   "cell_type": "markdown",
   "metadata": {},
   "source": [
    "# Conclusion"
   ]
  },
  {
   "cell_type": "markdown",
   "metadata": {},
   "source": [
    "#### Model 1 : Conv3D Model gives better accuracy \n",
    "#### Epoch 28/30 has highest validation accuracy"
   ]
  },
  {
   "cell_type": "code",
   "execution_count": null,
   "metadata": {},
   "outputs": [],
   "source": []
  }
 ],
 "metadata": {
  "kernelspec": {
   "display_name": "Python 3 (ipykernel)",
   "language": "python",
   "name": "python3"
  },
  "language_info": {
   "codemirror_mode": {
    "name": "ipython",
    "version": 3
   },
   "file_extension": ".py",
   "mimetype": "text/x-python",
   "name": "python",
   "nbconvert_exporter": "python",
   "pygments_lexer": "ipython3",
   "version": "3.8.10"
  }
 },
 "nbformat": 4,
 "nbformat_minor": 4
}
